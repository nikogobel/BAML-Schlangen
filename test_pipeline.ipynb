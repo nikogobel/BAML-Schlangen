{
 "cells": [
  {
   "cell_type": "code",
   "execution_count": 2,
   "metadata": {},
   "outputs": [
    {
     "name": "stdout",
     "output_type": "stream",
     "text": [
      "          AuthorId  RecipeId          Time HighCalories  HighProtein LowFat  \\\n",
      "10262     1003473D     71739      0.567324            1          Yes      0   \n",
      "10482      518537E    112421    299.339582            1          Yes      0   \n",
      "78696  2000059607C     11424  18902.668095            1  Indifferent      0   \n",
      "3963   2002228460A     53473    599.160951            1          Yes      0   \n",
      "28117      973766B    388372   8998.917957            1          Yes      0   \n",
      "61381      396399A     25800   1801.314410            0  Indifferent      0   \n",
      "86587      384827B    228631   1801.739986            0  Indifferent      0   \n",
      "99091  2000985680D     29935   4498.192336            0  Indifferent      0   \n",
      "43300       33839B    122086   1800.896964            1  Indifferent      0   \n",
      "67285      449920B      3886  91800.131289            1          Yes      0   \n",
      "\n",
      "          LowSugar HighFiber  \n",
      "10262  Indifferent         0  \n",
      "10482            0         1  \n",
      "78696  Indifferent         0  \n",
      "3963   Indifferent         0  \n",
      "28117            0         0  \n",
      "61381            0         1  \n",
      "86587            0         1  \n",
      "99091            0         1  \n",
      "43300            0         1  \n",
      "67285            0         0  \n",
      "<class 'pandas.core.frame.DataFrame'>\n",
      "RangeIndex: 140195 entries, 0 to 140194\n",
      "Data columns (total 8 columns):\n",
      " #   Column        Non-Null Count   Dtype   \n",
      "---  ------        --------------   -----   \n",
      " 0   AuthorId      140195 non-null  object  \n",
      " 1   RecipeId      140195 non-null  int64   \n",
      " 2   Time          140195 non-null  float64 \n",
      " 3   HighCalories  140195 non-null  category\n",
      " 4   HighProtein   140195 non-null  category\n",
      " 5   LowFat        140195 non-null  category\n",
      " 6   LowSugar      140195 non-null  category\n",
      " 7   HighFiber     140195 non-null  category\n",
      "dtypes: category(5), float64(1), int64(1), object(1)\n",
      "memory usage: 3.9+ MB\n",
      "None\n"
     ]
    },
    {
     "data": {
      "text/plain": [
       "<Axes: >"
      ]
     },
     "execution_count": 2,
     "metadata": {},
     "output_type": "execute_result"
    },
    {
     "data": {
      "image/png": "[encoded data removed]",
      "text/plain": [
       "<Figure size 640x480 with 1 Axes>"
      ]
     },
     "metadata": {},
     "output_type": "display_data"
    }
   ],
   "source": [
    "import pandas as pd\n",
    "import numpy as np\n",
    "\n",
    "import matplotlib.pyplot as plt\n",
    "import seaborn as sns\n",
    "import sklearn as sk\n",
    "\n",
    "#set the seed\n",
    "seed = 2024\n",
    "np.random.seed(seed)\n",
    "\n",
    "# load the data\n",
    "file_path = \"requests.csv\"\n",
    "df = pd.read_csv(file_path)\n",
    "\n",
    "\n",
    "\n",
    "#convert the data types to category\n",
    "df[\"HighCalories\"] = df[\"HighCalories\"].astype(int)\n",
    "df[\"HighCalories\"] = df[\"HighCalories\"].astype(\"category\")\n",
    "\n",
    "df[\"HighProtein\"] = df[\"HighProtein\"].astype(\"category\")\n",
    "\n",
    "df[\"LowFat\"] = df[\"LowFat\"].astype(\"category\")\n",
    "\n",
    "df[\"LowSugar\"] = df[\"LowSugar\"].astype(\"category\")\n",
    "\n",
    "df[\"HighFiber\"] = df[\"HighFiber\"].astype(\"category\")\n",
    "\n",
    "#df[\"Time\"] = np.log(df[\"Time\"])\n",
    "\n",
    "\n",
    "print(df.sample(10))\n",
    "print(df.info())\n",
    "sns.boxplot(df[\"Time\"])"
   ]
  }
 ],
 "metadata": {
  "kernelspec": {
   "display_name": "baml",
   "language": "python",
   "name": "python3"
  },
  "language_info": {
   "codemirror_mode": {
    "name": "ipython",
    "version": 3
   },
   "file_extension": ".py",
   "mimetype": "text/x-python",
   "name": "python",
   "nbconvert_exporter": "python",
   "pygments_lexer": "ipython3",
   "version": "3.11.5"
  }
 },
 "nbformat": 4,
 "nbformat_minor": 2
}
